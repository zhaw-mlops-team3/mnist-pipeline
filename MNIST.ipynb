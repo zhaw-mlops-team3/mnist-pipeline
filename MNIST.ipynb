{
 "cells": [
  {
   "cell_type": "code",
   "execution_count": null,
   "id": "b34f0c90",
   "metadata": {},
   "outputs": [
    {
     "name": "stderr",
     "output_type": "stream",
     "text": [
      "c:\\Users\\Curdin Richert\\anaconda3\\Lib\\site-packages\\torch\\utils\\_pytree.py:185: FutureWarning: optree is installed but the version is too old to support PyTorch Dynamo in C++ pytree. C++ pytree support is disabled. Please consider upgrading optree using `python3 -m pip install --upgrade 'optree>=0.13.0'`.\n",
      "  warnings.warn(\n",
      "100%|██████████| 9.91M/9.91M [00:02<00:00, 4.51MB/s]\n",
      "100%|██████████| 28.9k/28.9k [00:00<00:00, 156kB/s]\n",
      "100%|██████████| 1.65M/1.65M [00:01<00:00, 1.61MB/s]\n",
      "100%|██████████| 4.54k/4.54k [00:00<00:00, 1.04MB/s]\n"
     ]
    },
    {
     "name": "stdout",
     "output_type": "stream",
     "text": [
      "Epoch 1/5, Loss: 0.0812\n",
      "Epoch 2/5, Loss: 0.3681\n",
      "Epoch 3/5, Loss: 0.0471\n",
      "Epoch 4/5, Loss: 0.0132\n",
      "Epoch 5/5, Loss: 0.0109\n",
      "Test Accuracy: 97.19%\n"
     ]
    }
   ],
   "source": [
    "import torch\n",
    "import torch.nn as nn\n",
    "import torch.nn.functional as F\n",
    "import torch.optim as optim\n",
    "from torchvision import datasets, transforms\n",
    "from torch.utils.data import DataLoader\n",
    "import wandb\n",
    "\n",
    "device = torch.device(\"cuda\" if torch.cuda.is_available() else \"cpu\")\n",
    "\n",
    "wandb.init(project=\"MLOPS_Projekt\", config={\n",
    "    \"epochs\": 5,\n",
    "    \"batch_size\": 64,\n",
    "    \"learning_rate\": 0.001,\n",
    "    \"architecture\": \"3-layer-ffnn\"\n",
    "})\n",
    "\n",
    "\n",
    "\n",
    "\n",
    "# Model Def\n",
    "\n",
    "\n",
    "model = Net().to(device)\n",
    "\n",
    "optimizer = optim.Adam(model.parameters(), lr=0.001)\n",
    "criterion = nn.NLLLoss()\n",
    "\n",
    "\n",
    "\n",
    "# Evaluation\n",
    "\n",
    "\n",
    "torch.save(model.state_dict(), \"model.pth\")\n",
    "wandb.save(\"model.pth\")"
   ]
  }
 ],
 "metadata": {
  "kernelspec": {
   "display_name": "base",
   "language": "python",
   "name": "python3"
  },
  "language_info": {
   "codemirror_mode": {
    "name": "ipython",
    "version": 3
   },
   "file_extension": ".py",
   "mimetype": "text/x-python",
   "name": "python",
   "nbconvert_exporter": "python",
   "pygments_lexer": "ipython3",
   "version": "3.11.4"
  }
 },
 "nbformat": 4,
 "nbformat_minor": 5
}
